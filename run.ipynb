{
 "cells": [
  {
   "cell_type": "code",
   "execution_count": 1,
   "metadata": {},
   "outputs": [],
   "source": [
    "import os       \n",
    "os.chdir('/workspace/depth_refine_reconstruct/')"
   ]
  },
  {
   "cell_type": "code",
   "execution_count": 2,
   "metadata": {},
   "outputs": [
    {
     "name": "stdout",
     "output_type": "stream",
     "text": [
      "\u001b[34m\u001b[1mwandb\u001b[0m: W&B API key is configured (use `wandb login --relogin` to force relogin)\n",
      "\u001b[34m\u001b[1mwandb\u001b[0m: Tracking run with wandb version 0.10.17\n",
      "\u001b[34m\u001b[1mwandb\u001b[0m: Syncing run \u001b[33mtest\u001b[0m\n",
      "\u001b[34m\u001b[1mwandb\u001b[0m: ⭐️ View project at \u001b[34m\u001b[4mhttps://wandb.ai/maxs/depth_refine\u001b[0m\n",
      "\u001b[34m\u001b[1mwandb\u001b[0m: 🚀 View run at \u001b[34m\u001b[4mhttps://wandb.ai/maxs/depth_refine/runs/2brzxlh3\u001b[0m\n",
      "\u001b[34m\u001b[1mwandb\u001b[0m: Run data is saved locally in /workspace/depth_refine_reconstruct/wandb/run-20210216_084017-2brzxlh3\n",
      "\u001b[34m\u001b[1mwandb\u001b[0m: Run `wandb offline` to turn off syncing.\n",
      "\n",
      "Dataset BaseDataset was created\n",
      "The number of training images = 64\n",
      "Dataset BaseDataset was created\n",
      "The number of test images = 64\n",
      "---------- Networks initialized -------------\n",
      "[Network netG_A] Total number of parameters : 3.588 M\n",
      "-----------------------------------------------\n",
      "/opt/conda/lib/python3.7/site-packages/torch/nn/functional.py:3063: UserWarning: Default upsampling behavior when mode=bilinear is changed to align_corners=False since 0.4.0. Please specify align_corners=True if the old behavior is desired. See the documentation of nn.Upsample for details.\n",
      "  \"See the documentation of nn.Upsample for details.\".format(mode))\n",
      "16 img procesed out of 64, taken 0.69 sec per 1 batch\n",
      "32 img procesed out of 64, taken 0.18 sec per 1 batch\n",
      "48 img procesed out of 64, taken 0.18 sec per 1 batch\n",
      "64 img procesed out of 64, taken 0.18 sec per 1 batch\n",
      "Validation\n",
      "saving the model at the end of epoch 1, iters 4\n",
      "End of epoch 1 / 2 \t Time Taken: 13.64 sec\n",
      "16 img procesed out of 64, taken 0.18 sec per 1 batch\n",
      "32 img procesed out of 64, taken 0.18 sec per 1 batch\n",
      "48 img procesed out of 64, taken 0.18 sec per 1 batch\n",
      "64 img procesed out of 64, taken 0.18 sec per 1 batch\n",
      "Validation\n",
      "saving the model at the end of epoch 2, iters 8\n",
      "End of epoch 2 / 2 \t Time Taken: 18.28 sec\n",
      "Finish\n",
      "\n",
      "\u001b[34m\u001b[1mwandb\u001b[0m: Waiting for W&B process to finish, PID 5540\n",
      "\u001b[34m\u001b[1mwandb\u001b[0m: Program ended successfully.\n",
      "\u001b[34m\u001b[1mwandb\u001b[0m:                                                                                \n",
      "\u001b[34m\u001b[1mwandb\u001b[0m: Find user logs for this run at: /workspace/depth_refine_reconstruct/wandb/run-20210216_084017-2brzxlh3/logs/debug.log\n",
      "\u001b[34m\u001b[1mwandb\u001b[0m: Find internal logs for this run at: /workspace/depth_refine_reconstruct/wandb/run-20210216_084017-2brzxlh3/logs/debug-internal.log\n",
      "\u001b[34m\u001b[1mwandb\u001b[0m: Run summary:\n",
      "\u001b[34m\u001b[1mwandb\u001b[0m:                    Ld 0.9117\n",
      "\u001b[34m\u001b[1mwandb\u001b[0m:                    Lg 0.5604\n",
      "\u001b[34m\u001b[1mwandb\u001b[0m:                    Ln 0.1927\n",
      "\u001b[34m\u001b[1mwandb\u001b[0m:                    Lb 1.73965\n",
      "\u001b[34m\u001b[1mwandb\u001b[0m:        depth_dif_full 6166.64355\n",
      "\u001b[34m\u001b[1mwandb\u001b[0m:           depth_dif_4 0.91169\n",
      "\u001b[34m\u001b[1mwandb\u001b[0m:                 _step 8\n",
      "\u001b[34m\u001b[1mwandb\u001b[0m:              _runtime 46\n",
      "\u001b[34m\u001b[1mwandb\u001b[0m:            _timestamp 1613464863\n",
      "\u001b[34m\u001b[1mwandb\u001b[0m:                 Epoch 2\n",
      "\u001b[34m\u001b[1mwandb\u001b[0m:   test_depth_dif_full 5660.98621\n",
      "\u001b[34m\u001b[1mwandb\u001b[0m:      test_depth_dif_4 0.65783\n",
      "\u001b[34m\u001b[1mwandb\u001b[0m: Run history:\n",
      "\u001b[34m\u001b[1mwandb\u001b[0m:                    Ld █▃▂▁▁▂▂▁\n",
      "\u001b[34m\u001b[1mwandb\u001b[0m:                    Lg █▄▄▄▁▂▂▁\n",
      "\u001b[34m\u001b[1mwandb\u001b[0m:                    Ln █▅▄▄▂▂▃▁\n",
      "\u001b[34m\u001b[1mwandb\u001b[0m:                    Lb █▁▁▂▁▁▁▁\n",
      "\u001b[34m\u001b[1mwandb\u001b[0m:        depth_dif_full ▇▆▅█▃▂▂▁\n",
      "\u001b[34m\u001b[1mwandb\u001b[0m:           depth_dif_4 █▃▂▁▁▂▂▁\n",
      "\u001b[34m\u001b[1mwandb\u001b[0m:                 _step ▁▂▃▄▅▆▇█\n",
      "\u001b[34m\u001b[1mwandb\u001b[0m:              _runtime ▁▂▂▄▅▆▆█\n",
      "\u001b[34m\u001b[1mwandb\u001b[0m:            _timestamp ▁▂▂▄▅▆▆█\n",
      "\u001b[34m\u001b[1mwandb\u001b[0m:                 Epoch ▁█\n",
      "\u001b[34m\u001b[1mwandb\u001b[0m:   test_depth_dif_full █▁\n",
      "\u001b[34m\u001b[1mwandb\u001b[0m:      test_depth_dif_4 ▁█\n",
      "\u001b[34m\u001b[1mwandb\u001b[0m: \n",
      "\u001b[34m\u001b[1mwandb\u001b[0m: Synced 5 W&B file(s), 11 media file(s), 0 artifact file(s) and 0 other file(s)\n",
      "\u001b[34m\u001b[1mwandb\u001b[0m: \n",
      "\u001b[34m\u001b[1mwandb\u001b[0m: Synced \u001b[33mtest\u001b[0m: \u001b[34mhttps://wandb.ai/maxs/depth_refine/runs/2brzxlh3\u001b[0m\n"
     ]
    }
   ],
   "source": [
    "!python train.py --name test\\\n",
    "--gpu_ids 2\\\n",
    "--batch_size 16\\\n",
    "--lr_G 1e-4\\\n",
    "--img_freq 80\\\n",
    "--loss_freq 30\\\n",
    "--save_epoch_freq 5\\\n",
    "--n_epochs 30"
   ]
  },
  {
   "cell_type": "code",
   "execution_count": null,
   "metadata": {},
   "outputs": [],
   "source": []
  }
 ],
 "metadata": {
  "kernelspec": {
   "display_name": "Python 3",
   "language": "python",
   "name": "python3"
  },
  "language_info": {
   "codemirror_mode": {
    "name": "ipython",
    "version": 3
   },
   "file_extension": ".py",
   "mimetype": "text/x-python",
   "name": "python",
   "nbconvert_exporter": "python",
   "pygments_lexer": "ipython3",
   "version": "3.7.7"
  }
 },
 "nbformat": 4,
 "nbformat_minor": 4
}
