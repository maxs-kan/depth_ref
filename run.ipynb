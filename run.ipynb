{
 "cells": [
  {
   "cell_type": "code",
   "execution_count": 1,
   "metadata": {},
   "outputs": [],
   "source": [
    "import os       \n",
    "os.chdir('/workspace/depth_refine_reconstruct/')"
   ]
  },
  {
   "cell_type": "code",
   "execution_count": 4,
   "metadata": {},
   "outputs": [
    {
     "name": "stdout",
     "output_type": "stream",
     "text": [
      "\u001b[34m\u001b[1mwandb\u001b[0m: W&B API key is configured (use `wandb login --relogin` to force relogin)\n",
      "\u001b[34m\u001b[1mwandb\u001b[0m: Tracking run with wandb version 0.10.17\n",
      "\u001b[34m\u001b[1mwandb\u001b[0m: Syncing run \u001b[33mfirst\u001b[0m\n",
      "\u001b[34m\u001b[1mwandb\u001b[0m: ⭐️ View project at \u001b[34m\u001b[4mhttps://wandb.ai/maxs/depth_refine\u001b[0m\n",
      "\u001b[34m\u001b[1mwandb\u001b[0m: 🚀 View run at \u001b[34m\u001b[4mhttps://wandb.ai/maxs/depth_refine/runs/cxy4irto\u001b[0m\n",
      "\u001b[34m\u001b[1mwandb\u001b[0m: Run data is saved locally in /workspace/depth_refine_reconstruct/wandb/run-20210216_124111-cxy4irto\n",
      "\u001b[34m\u001b[1mwandb\u001b[0m: Run `wandb offline` to turn off syncing.\n",
      "\n",
      "Dataset BaseDataset was created\n",
      "Warning, drop last batch\n",
      "The number of training images = 38577\n",
      "Dataset BaseDataset was created\n",
      "The number of test images = 5058\n",
      "---------- Networks initialized -------------\n",
      "[Network netG_A] Total number of parameters : 3.588 M\n",
      "-----------------------------------------------\n",
      "/opt/conda/lib/python3.7/site-packages/torch/nn/functional.py:3063: UserWarning: Default upsampling behavior when mode=bilinear is changed to align_corners=False since 0.4.0. Please specify align_corners=True if the old behavior is desired. See the documentation of nn.Upsample for details.\n",
      "  \"See the documentation of nn.Upsample for details.\".format(mode))\n",
      "5120 img procesed out of 38577, taken 0.27 sec per 1 batch\n",
      "10240 img procesed out of 38577, taken 0.27 sec per 1 batch\n",
      "15360 img procesed out of 38577, taken 0.28 sec per 1 batch\n",
      "^C\n",
      "Traceback (most recent call last):\n",
      "  File \"train.py\", line 115, in <module>\n",
      "    model.optimize_param()\n",
      "  File \"/workspace/depth_refine_reconstruct/models/model.py\", line 117, in optimize_param\n",
      "    self.backward_G()\n",
      "  File \"/workspace/depth_refine_reconstruct/models/model.py\", line 111, in backward_G\n",
      "    self.loss_depth_dif_full = self.L1_(self.depth_B.cuda(), self.depth_A2B.cuda())\n",
      "KeyboardInterrupt\n",
      "\n",
      "\u001b[34m\u001b[1mwandb\u001b[0m: Waiting for W&B process to finish, PID 26219\n",
      "\u001b[34m\u001b[1mwandb\u001b[0m: Program failed with code 255.  Press ctrl-c to abort syncing.\n"
     ]
    }
   ],
   "source": [
    "!python train.py --name first\\\n",
    "--gpu_ids 0,1,3\\\n",
    "--batch_size 64\\\n",
    "--lr_G 1e-4\\\n",
    "--img_freq 80\\\n",
    "--loss_freq 30\\\n",
    "--save_epoch_freq 15\\\n",
    "--n_epochs 41"
   ]
  },
  {
   "cell_type": "code",
   "execution_count": null,
   "metadata": {},
   "outputs": [],
   "source": []
  }
 ],
 "metadata": {
  "kernelspec": {
   "display_name": "Python 3",
   "language": "python",
   "name": "python3"
  },
  "language_info": {
   "codemirror_mode": {
    "name": "ipython",
    "version": 3
   },
   "file_extension": ".py",
   "mimetype": "text/x-python",
   "name": "python",
   "nbconvert_exporter": "python",
   "pygments_lexer": "ipython3",
   "version": "3.7.7"
  }
 },
 "nbformat": 4,
 "nbformat_minor": 4
}
